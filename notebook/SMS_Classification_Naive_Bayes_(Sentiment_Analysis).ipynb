{
  "nbformat": 4,
  "nbformat_minor": 0,
  "metadata": {
    "colab": {
      "name": "SMS Classification Naive Bayes (Sentiment Analysis).ipynb",
      "provenance": [],
      "collapsed_sections": []
    },
    "kernelspec": {
      "name": "python3",
      "display_name": "Python 3"
    },
    "language_info": {
      "name": "python"
    }
  },
  "cells": [
    {
      "cell_type": "code",
      "metadata": {
        "id": "9w7o2sWmWG2f",
        "colab": {
          "base_uri": "https://localhost:8080/"
        },
        "outputId": "b18f6e2b-955a-4a2f-de3b-e3a91ddd6b07"
      },
      "source": [
        "%%bash\n",
        "! pip install Sastrawi\n",
        "! pip install pickle-mixin"
      ],
      "execution_count": null,
      "outputs": [
        {
          "output_type": "stream",
          "text": [
            "Collecting Sastrawi\n",
            "  Downloading https://files.pythonhosted.org/packages/6f/4b/bab676953da3103003730b8fcdfadbdd20f333d4add10af949dd5c51e6ed/Sastrawi-1.0.1-py2.py3-none-any.whl (209kB)\n",
            "Installing collected packages: Sastrawi\n",
            "Successfully installed Sastrawi-1.0.1\n",
            "Collecting pickle-mixin\n",
            "  Downloading https://files.pythonhosted.org/packages/02/77/9d5eb2201bbc130e2a5cc41fc949e4ab0da74b619107eac1c511be3af7a7/pickle-mixin-1.0.2.tar.gz\n",
            "Building wheels for collected packages: pickle-mixin\n",
            "  Building wheel for pickle-mixin (setup.py): started\n",
            "  Building wheel for pickle-mixin (setup.py): finished with status 'done'\n",
            "  Created wheel for pickle-mixin: filename=pickle_mixin-1.0.2-cp37-none-any.whl size=6007 sha256=29bc814f5fa5ec52fee88459047141b70db92eb5ae03aace49dbbd971a52b6df\n",
            "  Stored in directory: /root/.cache/pip/wheels/cd/05/42/71de70fa36b9cbb7657bb5793a16f8028c1cdc1bdd3b8e1ac3\n",
            "Successfully built pickle-mixin\n",
            "Installing collected packages: pickle-mixin\n",
            "Successfully installed pickle-mixin-1.0.2\n"
          ],
          "name": "stdout"
        }
      ]
    },
    {
      "cell_type": "code",
      "metadata": {
        "id": "TpKBpUmOXFeD"
      },
      "source": [
        "import numpy as np\n",
        "import pandas as pd\n",
        "import matplotlib.pyplot as plt\n",
        "%matplotlib inline\n",
        "from Sastrawi.StopWordRemover.StopWordRemoverFactory import StopWordRemoverFactory\n",
        "from sklearn.model_selection import KFold\n",
        "from Sastrawi.Stemmer.StemmerFactory import StemmerFactory\n",
        "from sklearn.metrics import classification_report, accuracy_score\n",
        "from collections import Counter\n",
        "from timeit import default_timer as timer\n",
        "from sklearn.model_selection import train_test_split\n",
        "import re\n",
        "import pickle"
      ],
      "execution_count": null,
      "outputs": []
    },
    {
      "cell_type": "code",
      "metadata": {
        "id": "UdximKwVXG_2",
        "colab": {
          "base_uri": "https://localhost:8080/",
          "height": 204
        },
        "outputId": "499b4a4c-f651-494b-e5ab-524c4156f1d3"
      },
      "source": [
        "df = pd.read_excel(\"/content/drive/MyDrive/Colab Notebooks/SMS Classification Naive Bayes/dataset_sms_spam_.xlsx\")\n",
        "df.head()"
      ],
      "execution_count": null,
      "outputs": [
        {
          "output_type": "execute_result",
          "data": {
            "text/html": [
              "<div>\n",
              "<style scoped>\n",
              "    .dataframe tbody tr th:only-of-type {\n",
              "        vertical-align: middle;\n",
              "    }\n",
              "\n",
              "    .dataframe tbody tr th {\n",
              "        vertical-align: top;\n",
              "    }\n",
              "\n",
              "    .dataframe thead th {\n",
              "        text-align: right;\n",
              "    }\n",
              "</style>\n",
              "<table border=\"1\" class=\"dataframe\">\n",
              "  <thead>\n",
              "    <tr style=\"text-align: right;\">\n",
              "      <th></th>\n",
              "      <th>text</th>\n",
              "      <th>label</th>\n",
              "    </tr>\n",
              "  </thead>\n",
              "  <tbody>\n",
              "    <tr>\n",
              "      <th>0</th>\n",
              "      <td>[PROMO] Beli paket Flash mulai 1GB di MY TELKO...</td>\n",
              "      <td>2</td>\n",
              "    </tr>\n",
              "    <tr>\n",
              "      <th>1</th>\n",
              "      <td>2.5 GB/30 hari hanya Rp 35 Ribu Spesial buat A...</td>\n",
              "      <td>2</td>\n",
              "    </tr>\n",
              "    <tr>\n",
              "      <th>2</th>\n",
              "      <td>2016-07-08 11:47:11.Plg Yth, sisa kuota Flash ...</td>\n",
              "      <td>2</td>\n",
              "    </tr>\n",
              "    <tr>\n",
              "      <th>3</th>\n",
              "      <td>2016-08-07 11:29:47.Plg Yth, sisa kuota Flash ...</td>\n",
              "      <td>2</td>\n",
              "    </tr>\n",
              "    <tr>\n",
              "      <th>4</th>\n",
              "      <td>4.5GB/30 hari hanya Rp 55 Ribu Spesial buat an...</td>\n",
              "      <td>2</td>\n",
              "    </tr>\n",
              "  </tbody>\n",
              "</table>\n",
              "</div>"
            ],
            "text/plain": [
              "                                                text  label\n",
              "0  [PROMO] Beli paket Flash mulai 1GB di MY TELKO...      2\n",
              "1  2.5 GB/30 hari hanya Rp 35 Ribu Spesial buat A...      2\n",
              "2  2016-07-08 11:47:11.Plg Yth, sisa kuota Flash ...      2\n",
              "3  2016-08-07 11:29:47.Plg Yth, sisa kuota Flash ...      2\n",
              "4  4.5GB/30 hari hanya Rp 55 Ribu Spesial buat an...      2"
            ]
          },
          "metadata": {
            "tags": []
          },
          "execution_count": 3
        }
      ]
    },
    {
      "cell_type": "code",
      "metadata": {
        "id": "fhLjTaAiXSIV",
        "colab": {
          "base_uri": "https://localhost:8080/"
        },
        "outputId": "3a66d3af-2375-4b48-e7f6-a95349eca6ff"
      },
      "source": [
        "df.isna().sum()"
      ],
      "execution_count": null,
      "outputs": [
        {
          "output_type": "execute_result",
          "data": {
            "text/plain": [
              "text     0\n",
              "label    0\n",
              "dtype: int64"
            ]
          },
          "metadata": {
            "tags": []
          },
          "execution_count": 4
        }
      ]
    },
    {
      "cell_type": "code",
      "metadata": {
        "id": "Zbl9rApTY9Eh",
        "colab": {
          "base_uri": "https://localhost:8080/"
        },
        "outputId": "034c7c46-6373-413a-d167-36ffb2e38455"
      },
      "source": [
        "df.count()"
      ],
      "execution_count": null,
      "outputs": [
        {
          "output_type": "execute_result",
          "data": {
            "text/plain": [
              "text     1139\n",
              "label    1139\n",
              "dtype: int64"
            ]
          },
          "metadata": {
            "tags": []
          },
          "execution_count": 5
        }
      ]
    },
    {
      "cell_type": "code",
      "metadata": {
        "id": "NVSGGYcmZVRA",
        "colab": {
          "base_uri": "https://localhost:8080/",
          "height": 173
        },
        "outputId": "9df15521-369f-4d1e-f9c7-70a0239b3664"
      },
      "source": [
        "df.groupby('label').count()"
      ],
      "execution_count": null,
      "outputs": [
        {
          "output_type": "execute_result",
          "data": {
            "text/html": [
              "<div>\n",
              "<style scoped>\n",
              "    .dataframe tbody tr th:only-of-type {\n",
              "        vertical-align: middle;\n",
              "    }\n",
              "\n",
              "    .dataframe tbody tr th {\n",
              "        vertical-align: top;\n",
              "    }\n",
              "\n",
              "    .dataframe thead th {\n",
              "        text-align: right;\n",
              "    }\n",
              "</style>\n",
              "<table border=\"1\" class=\"dataframe\">\n",
              "  <thead>\n",
              "    <tr style=\"text-align: right;\">\n",
              "      <th></th>\n",
              "      <th>text</th>\n",
              "    </tr>\n",
              "    <tr>\n",
              "      <th>label</th>\n",
              "      <th></th>\n",
              "    </tr>\n",
              "  </thead>\n",
              "  <tbody>\n",
              "    <tr>\n",
              "      <th>0</th>\n",
              "      <td>568</td>\n",
              "    </tr>\n",
              "    <tr>\n",
              "      <th>1</th>\n",
              "      <td>332</td>\n",
              "    </tr>\n",
              "    <tr>\n",
              "      <th>2</th>\n",
              "      <td>239</td>\n",
              "    </tr>\n",
              "  </tbody>\n",
              "</table>\n",
              "</div>"
            ],
            "text/plain": [
              "       text\n",
              "label      \n",
              "0       568\n",
              "1       332\n",
              "2       239"
            ]
          },
          "metadata": {
            "tags": []
          },
          "execution_count": 6
        }
      ]
    },
    {
      "cell_type": "code",
      "metadata": {
        "id": "KhOci2D3ZctD",
        "colab": {
          "base_uri": "https://localhost:8080/",
          "height": 282
        },
        "outputId": "03e31ec0-c04e-4a64-80d5-b57cf4c3f7d5"
      },
      "source": [
        "count = df.groupby('label').count()\n",
        "count.reset_index(inplace=True)\n",
        "plt.bar(count['label'],count['text'])"
      ],
      "execution_count": null,
      "outputs": [
        {
          "output_type": "execute_result",
          "data": {
            "text/plain": [
              "<BarContainer object of 3 artists>"
            ]
          },
          "metadata": {
            "tags": []
          },
          "execution_count": 8
        },
        {
          "output_type": "display_data",
          "data": {
            "image/png": "[encoded data removed]",
            "text/plain": [
              "<Figure size 432x288 with 1 Axes>"
            ]
          },
          "metadata": {
            "tags": [],
            "needs_background": "light"
          }
        }
      ]
    },
    {
      "cell_type": "code",
      "metadata": {
        "id": "IL9DkuFJp-6o",
        "colab": {
          "base_uri": "https://localhost:8080/"
        },
        "outputId": "fb354642-26ee-4ee1-fdba-8988df906187"
      },
      "source": [
        "import time\n",
        "start_time = time.time()\n",
        "\n",
        "stemmer = StemmerFactory().create_stemmer()\n",
        "stem_word = []\n",
        "for i in df['text']:\n",
        "  stem = stemmer.stem(i)\n",
        "  stem_word.append(stem)\n",
        "\n",
        "print(\"--- %s seconds ---\" % (time.time() - start_time))\n",
        "print(stem_word[:10])\n"
      ],
      "execution_count": null,
      "outputs": [
        {
          "output_type": "stream",
          "text": [
            "--- 462.24897813796997 seconds ---\n",
            "['promo beli paket flash mulai 1gb di my telkomsel app dpt extra kuota 2gb 4g lte dan extra nelpon hingga 100mnt 1hr buru cek di tsel me mytsel1 s k', '2 5 gb 30 hari hanya rp 35 ribu spesial buat anda yang pilih aktif sekarang juga di 550 905 promo sd 30 nov 2015 buru aktif sekarang s k', '2016-07-08 11 47 11 plg yth sisa kuota flash anda 478kb download mytelkomsel apps di http tsel me tsel utk cek kuota beli paket flash atau hub 363', '2016-08-07 11 29 47 plg yth sisa kuota flash anda 7160kb download mytelkomsel apps di http tsel me tsel utk cek kuota beli paket flash atau hub 363', '4 5gb 30 hari hanya rp 55 ribu spesial buat anda yang pilih aktif sekarang juga di 550 907 buru skb', '5 hari lagi ekstra pulsa 50rb dg beli paket internet bulan di mytelkomsel utk beli pertama sjk 25aug-25sept cek detail promo di tsel me mytsel1', 'ada iring dgn tarif rp 01 7hr panjang rp 3190 7hr dari hits armada - curi hati tekan 808 3 1 4 1 lalu ok call info 100 111', 'akhir bulan harus tetap eks loh internetan pake volume ultima 900mb 30hr hrga mulai rp 35rb di 100 471 tarif lokasi cek di tsel me fl', 'aktif iring coboy jr - hebat tekan 808 7 info 100 111 ada hits baru dari noah - jika engkau aktif iring nya di hp kamu ketik mg noah02 kirim ke 808 info 100 111 berkah iring rp 1000 dr yuni shara - akhir aktif iring nya tkn 808 1 2 3 lalu ok call raih thr puluhanjt henti unreg ke 808', 'ambil bonus hari di 600 bebas pulsa dptkan gratis nelpon atau internetan dan promo lain sesuai hobi']\n"
          ],
          "name": "stdout"
        }
      ]
    },
    {
      "cell_type": "code",
      "metadata": {
        "colab": {
          "base_uri": "https://localhost:8080/"
        },
        "id": "DWhAMxuP8-1h",
        "outputId": "037ca19a-ff8d-48f2-d547-d05eb9dc47b2"
      },
      "source": [
        "stem_word[:7]"
      ],
      "execution_count": null,
      "outputs": [
        {
          "output_type": "execute_result",
          "data": {
            "text/plain": [
              "['promo beli paket flash mulai 1gb di my telkomsel app dpt extra kuota 2gb 4g lte dan extra nelpon hingga 100mnt 1hr buru cek di tsel me mytsel1 s k',\n",
              " '2 5 gb 30 hari hanya rp 35 ribu spesial buat anda yang pilih aktif sekarang juga di 550 905 promo sd 30 nov 2015 buru aktif sekarang s k',\n",
              " '2016-07-08 11 47 11 plg yth sisa kuota flash anda 478kb download mytelkomsel apps di http tsel me tsel utk cek kuota beli paket flash atau hub 363',\n",
              " '2016-08-07 11 29 47 plg yth sisa kuota flash anda 7160kb download mytelkomsel apps di http tsel me tsel utk cek kuota beli paket flash atau hub 363',\n",
              " '4 5gb 30 hari hanya rp 55 ribu spesial buat anda yang pilih aktif sekarang juga di 550 907 buru skb',\n",
              " '5 hari lagi ekstra pulsa 50rb dg beli paket internet bulan di mytelkomsel utk beli pertama sjk 25aug-25sept cek detail promo di tsel me mytsel1',\n",
              " 'ada iring dgn tarif rp 01 7hr panjang rp 3190 7hr dari hits armada - curi hati tekan 808 3 1 4 1 lalu ok call info 100 111']"
            ]
          },
          "metadata": {
            "tags": []
          },
          "execution_count": 12
        }
      ]
    },
    {
      "cell_type": "code",
      "metadata": {
        "id": "OvrWsNxX3-gx"
      },
      "source": [
        "# gabung = pd.DataFrame({'text_stemming': stem_word, 'label': df['label']})\n",
        "# string = \"/content/drive/MyDrive/Colab Notebooks/SMS Classification Naive Bayes/stemming_sms.xlsx\"\n",
        "# gabung.to_excel(excel_writer = string)"
      ],
      "execution_count": null,
      "outputs": []
    },
    {
      "cell_type": "code",
      "metadata": {
        "id": "pFk10g7QsIY-"
      },
      "source": [
        "stem_word = pd.read_excel('/content/drive/MyDrive/Colab Notebooks/SMS Classification Naive Bayes/stemming_sms.xlsx')\n",
        "stem_word = stem_word.sort_values(by=['text_stemming'])"
      ],
      "execution_count": null,
      "outputs": []
    },
    {
      "cell_type": "code",
      "metadata": {
        "colab": {
          "base_uri": "https://localhost:8080/"
        },
        "id": "QtnAGbf7nFpe",
        "outputId": "1730ce2e-d25d-4bce-e2a9-fcc90ba0db02"
      },
      "source": [
        "from sklearn.feature_extraction.text import TfidfVectorizer\n",
        "vectorizer = TfidfVectorizer(max_features=1000, decode_error='ignore')\n",
        "vectorizer.fit(stem_word['text_stemming'])"
      ],
      "execution_count": null,
      "outputs": [
        {
          "output_type": "execute_result",
          "data": {
            "text/plain": [
              "TfidfVectorizer(analyzer='word', binary=False, decode_error='ignore',\n",
              "                dtype=<class 'numpy.float64'>, encoding='utf-8',\n",
              "                input='content', lowercase=True, max_df=1.0, max_features=1000,\n",
              "                min_df=1, ngram_range=(1, 1), norm='l2', preprocessor=None,\n",
              "                smooth_idf=True, stop_words=None, strip_accents=None,\n",
              "                sublinear_tf=False, token_pattern='(?u)\\\\b\\\\w\\\\w+\\\\b',\n",
              "                tokenizer=None, use_idf=True, vocabulary=None)"
            ]
          },
          "metadata": {
            "tags": []
          },
          "execution_count": 15
        }
      ]
    },
    {
      "cell_type": "code",
      "metadata": {
        "id": "h3-HaDff-0GW"
      },
      "source": [
        "def Naive_bayes(X_train, X_test, y_train, y_test):\n",
        "  from sklearn.naive_bayes import MultinomialNB\n",
        "  multi_nb = MultinomialNB()\n",
        " \n",
        "\n",
        "  multi_nb.fit(vectorizer.transform(X_train), y_train)\n",
        "  y_pred = multi_nb.predict(vectorizer.transform(X_test))\n",
        "  score = accuracy_score(y_test, y_pred)\n",
        "  return score"
      ],
      "execution_count": null,
      "outputs": []
    },
    {
      "cell_type": "code",
      "metadata": {
        "colab": {
          "base_uri": "https://localhost:8080/",
          "height": 384
        },
        "id": "S3LBvvKQDErb",
        "outputId": "439c4dcc-c478-42eb-beb9-284f2a42c448"
      },
      "source": [
        "kf = KFold(n_splits=5, random_state=True, shuffle=True)\n",
        "\n",
        "train, test = [], []\n",
        "i = 1\n",
        "akurasi = []\n",
        "X = np.arange(len(stem_word))\n",
        "for train_index, test_index in kf.split(X):\n",
        "  X_train = stem_word['text_stemming'][train_index]\n",
        "  X_test = stem_word['text_stemming'][test_index]\n",
        "  y_train = stem_word['label'][train_index]\n",
        "  y_test = stem_word['label'][test_index]\n",
        "\n",
        "  score = Naive_bayes(X_train, X_test, y_train, y_test)\n",
        "  akurasi.append(score)\n",
        "  print('Kfold', i ,score)\n",
        "  i += 1\n",
        "akurasi = np.array(akurasi)\n",
        "print('rata-rata = ', (akurasi.sum()/len(akurasi)))\n",
        "\n",
        "plt.plot(np.arange(len(akurasi)), akurasi)"
      ],
      "execution_count": null,
      "outputs": [
        {
          "output_type": "stream",
          "text": [
            "Kfold 1 0.9298245614035088\n",
            "Kfold 2 0.9473684210526315\n",
            "Kfold 3 0.9385964912280702\n",
            "Kfold 4 0.9429824561403509\n",
            "Kfold 5 0.9118942731277533\n",
            "rata-rata =  0.934133240590463\n"
          ],
          "name": "stdout"
        },
        {
          "output_type": "execute_result",
          "data": {
            "text/plain": [
              "[<matplotlib.lines.Line2D at 0x7eff8b2f1090>]"
            ]
          },
          "metadata": {
            "tags": []
          },
          "execution_count": 19
        },
        {
          "output_type": "display_data",
          "data": {
            "image/png": "[encoded data removed]",
            "text/plain": [
              "<Figure size 432x288 with 1 Axes>"
            ]
          },
          "metadata": {
            "tags": [],
            "needs_background": "light"
          }
        }
      ]
    },
    {
      "cell_type": "markdown",
      "metadata": {
        "id": "qadhhJtSrIFS"
      },
      "source": [
        "# Save model using pickle"
      ]
    },
    {
      "cell_type": "code",
      "metadata": {
        "colab": {
          "base_uri": "https://localhost:8080/"
        },
        "id": "q9mdjZqKrUSt",
        "outputId": "a22f80af-b4c7-4770-86d1-fd8a42d7bceb"
      },
      "source": [
        "X_train, X_test, y_train, y_test = train_test_split(stem_word['text_stemming'], stem_word['label'], test_size=0.001, random_state=4)\n",
        "print(len(X_train))\n",
        "print(len(X_test))"
      ],
      "execution_count": null,
      "outputs": [
        {
          "output_type": "stream",
          "text": [
            "1137\n",
            "2\n"
          ],
          "name": "stdout"
        }
      ]
    },
    {
      "cell_type": "code",
      "metadata": {
        "colab": {
          "base_uri": "https://localhost:8080/"
        },
        "id": "NkV_diXCr9SZ",
        "outputId": "07c1eced-62df-4598-c370-22fcc41f4883"
      },
      "source": [
        "from sklearn.naive_bayes import MultinomialNB\n",
        "\n",
        "multi_nb = MultinomialNB()\n",
        "multi_nb.fit(vectorizer.transform(X_train), y_train)\n",
        "y_pred = multi_nb.predict(vectorizer.transform(X_test))\n",
        "score = accuracy_score(y_test, y_pred)\n",
        "score"
      ],
      "execution_count": null,
      "outputs": [
        {
          "output_type": "execute_result",
          "data": {
            "text/plain": [
              "0.9118942731277533"
            ]
          },
          "metadata": {
            "tags": []
          },
          "execution_count": 23
        }
      ]
    },
    {
      "cell_type": "code",
      "metadata": {
        "colab": {
          "base_uri": "https://localhost:8080/"
        },
        "id": "Z6u-2u0GsRRw",
        "outputId": "08671c72-d71a-41b5-f585-dcfcd7293c32"
      },
      "source": [
        "multi_nb"
      ],
      "execution_count": null,
      "outputs": [
        {
          "output_type": "execute_result",
          "data": {
            "text/plain": [
              "MultinomialNB(alpha=1.0, class_prior=None, fit_prior=True)"
            ]
          },
          "metadata": {
            "tags": []
          },
          "execution_count": 22
        }
      ]
    },
    {
      "cell_type": "markdown",
      "metadata": {
        "id": "-ibe6WABsleF"
      },
      "source": [
        "<h2>Save Pickel File"
      ]
    },
    {
      "cell_type": "code",
      "metadata": {
        "id": "jE7l8gGMqP7q"
      },
      "source": [
        "pkl_filename = \"/content/drive/MyDrive/Colab Notebooks/SMS Classification Naive Bayes/pickle_model.pkl\"\n",
        "with open(pkl_filename, 'wb') as file:\n",
        "    pickle.dump(multi_nb, file)"
      ],
      "execution_count": null,
      "outputs": []
    },
    {
      "cell_type": "markdown",
      "metadata": {
        "id": "xAIm_BPSsraR"
      },
      "source": [
        "<h2>Open Pickle File"
      ]
    },
    {
      "cell_type": "code",
      "metadata": {
        "colab": {
          "base_uri": "https://localhost:8080/"
        },
        "id": "Mx0vvdV_syio",
        "outputId": "0e4609a2-bceb-4a8c-bfaa-b1726e11b773"
      },
      "source": [
        "import pickle\n",
        "import pandas as pd\n",
        "from Sastrawi.Stemmer.StemmerFactory import StemmerFactory\n",
        "from sklearn.feature_extraction.text import TfidfVectorizer\n",
        "\n",
        "stem_word = pd.read_excel('/content/drive/MyDrive/Colab Notebooks/SMS Classification Naive Bayes/stemming_sms.xlsx')\n",
        "stem_word = stem_word.sort_values(by=['text_stemming'])\n",
        "\n",
        "pkl_filename = \"/content/drive/MyDrive/Colab Notebooks/SMS Classification Naive Bayes/pickle_model.pkl\"\n",
        "with open(pkl_filename, 'rb') as file:\n",
        "    pickle_model = pickle.load(file)\n",
        "\n",
        "test = 'ayah isiin dl plsa as 20rb di no 082315835514 skrng penting'\n",
        "\n",
        "stemmer = StemmerFactory().create_stemmer()\n",
        "stem = stemmer.stem(test)\n",
        "\n",
        "vectorizer = TfidfVectorizer(max_features=1000, decode_error='ignore')\n",
        "vectorizer.fit(stem_word['text_stemming'])\n",
        "\n",
        "class_pred = pickle_model.predict(vectorizer.transform([stem]))\n",
        "if class_pred == 0:\n",
        "  print('normal')\n",
        "elif class_pred == 1:\n",
        "  print('penipuan')\n",
        "else:\n",
        "  print('promo')"
      ],
      "execution_count": null,
      "outputs": [
        {
          "output_type": "stream",
          "text": [
            "penipuan\n"
          ],
          "name": "stdout"
        }
      ]
    },
    {
      "cell_type": "code",
      "metadata": {
        "colab": {
          "base_uri": "https://localhost:8080/"
        },
        "id": "VzMTVKmPs5Cp",
        "outputId": "d23f233d-f30a-461b-96b1-fea996e86f4f"
      },
      "source": [
        "testing = [\n",
        "    'sy rudy di malaysia, brencana investasikan dana sy sbgai bekal hidup di indo,sy butuh org yg bisa sy percayakan uang sy rm 5jt,bila brsedia,sms di 085340046549',\n",
        "    'telkomsel(777) kejutan poin hadiah rp.15jt resmi diberikan u/pemilik no. 08128824xxxx pin-b6ba247 u/info hub: pt.telkomsel  021-40225678 021-40333456',\n",
        "    'ayah isiin dl plsa as 20rb di no 082315835514 skrng penting',\n",
        "    'ass,maaf sy yg berminat dgn lokasi yg ditawarkan, dan sy sdh merasa cocok masalah hrganya tolong hubungi a/sms suami sy h.handoko hp;081524095427 trmksh.',\n",
        "    'gua tangtang lu di kedung halang talang bogor setelah lebaran .',\n",
        "    'Hai sayang, apa kabar',\n",
        "    'Jangan lupa besok pagi ada meeting di tempat client!',\n",
        "    'promo ramadhan pnjaman dna cash 100jt - 5m - dgn jaminan bpkb mobil - bs menggunakan krtu-kredit dgn bnga 1.11% minat hub : wijaya 085311466524 - 085814517417',\n",
        "    'paket berdua diskon 45%. ayam+chicken strips+2 nasi+2 minum hanya 35rb nett. tkr sms ini di cfc stasiun kota hingga 30mar. stok terbatas. promo *606#'\n",
        "]\n",
        "\n",
        "from sklearn.naive_bayes import MultinomialNB\n",
        "\n",
        "multi_nb = MultinomialNB()\n",
        "multi_nb.fit(vectorizer.transform(X_train), y_train)\n",
        "\n",
        "for i in testing:\n",
        "  class_pred = multi_nb.predict(vectorizer.transform([i]))\n",
        "  print(i)\n",
        "  if class_pred == 0:\n",
        "    print('normal')\n",
        "  elif class_pred == 1:\n",
        "    print('penipuan')\n",
        "  else:\n",
        "    print('promo')\n",
        "  print()"
      ],
      "execution_count": null,
      "outputs": [
        {
          "output_type": "stream",
          "text": [
            "sy rudy di malaysia, brencana investasikan dana sy sbgai bekal hidup di indo,sy butuh org yg bisa sy percayakan uang sy rm 5jt,bila brsedia,sms di 085340046549\n",
            "penipuan\n",
            "\n",
            "telkomsel(777) kejutan poin hadiah rp.15jt resmi diberikan u/pemilik no. 08128824xxxx pin-b6ba247 u/info hub: pt.telkomsel  021-40225678 021-40333456\n",
            "penipuan\n",
            "\n",
            "ayah isiin dl plsa as 20rb di no 082315835514 skrng penting\n",
            "penipuan\n",
            "\n",
            "ass,maaf sy yg berminat dgn lokasi yg ditawarkan, dan sy sdh merasa cocok masalah hrganya tolong hubungi a/sms suami sy h.handoko hp;081524095427 trmksh.\n",
            "penipuan\n",
            "\n",
            "gua tangtang lu di kedung halang talang bogor setelah lebaran .\n",
            "normal\n",
            "\n",
            "Hai sayang, apa kabar\n",
            "normal\n",
            "\n",
            "Jangan lupa besok pagi ada meeting di tempat client!\n",
            "normal\n",
            "\n",
            "promo ramadhan pnjaman dna cash 100jt - 5m - dgn jaminan bpkb mobil - bs menggunakan krtu-kredit dgn bnga 1.11% minat hub : wijaya 085311466524 - 085814517417\n",
            "penipuan\n",
            "\n",
            "paket berdua diskon 45%. ayam+chicken strips+2 nasi+2 minum hanya 35rb nett. tkr sms ini di cfc stasiun kota hingga 30mar. stok terbatas. promo *606#\n",
            "promo\n",
            "\n"
          ],
          "name": "stdout"
        }
      ]
    },
    {
      "cell_type": "markdown",
      "metadata": {
        "id": "VY03ZRnQqQOS"
      },
      "source": [
        "# percobaan yang laen"
      ]
    },
    {
      "cell_type": "code",
      "metadata": {
        "colab": {
          "base_uri": "https://localhost:8080/"
        },
        "id": "gMNjgokGth7C",
        "outputId": "447ccb03-6d42-4ede-d9ce-aed21df3e0a0"
      },
      "source": [
        "from sklearn.ensemble import RandomForestClassifier\n",
        "X = np.arange(len(stem_word))\n",
        "kf = KFold(n_splits=5, random_state=True, shuffle=True)\n",
        "\n",
        "train, test = [], []\n",
        "i = 1\n",
        "akurasi = []\n",
        "for train_index, test_index in kf.split(X):\n",
        "  X_train = stem_word['text_stemming'][train_index]\n",
        "  X_test = stem_word['text_stemming'][test_index]\n",
        "  y_train = stem_word['label'][train_index]\n",
        "  y_test = stem_word['label'][test_index]\n",
        "\n",
        "  random_forest = RandomForestClassifier(max_depth=90, random_state=5)\n",
        "  random_forest.fit(vectorizer.transform(X_train), y_train)\n",
        "  y_pred = random_forest.predict(vectorizer.transform(X_test))\n",
        "  score = accuracy_score(y_test, y_pred)\n",
        "  akurasi.append(score)\n",
        "  print('Kfold', i ,score)\n",
        "  i += 1\n",
        "akurasi = np.array(akurasi)\n",
        "print('rata-rata = ', (akurasi.sum()/len(akurasi)))"
      ],
      "execution_count": null,
      "outputs": [
        {
          "output_type": "stream",
          "text": [
            "Kfold 1 0.9210526315789473\n",
            "Kfold 2 0.9429824561403509\n",
            "Kfold 3 0.9122807017543859\n",
            "Kfold 4 0.9298245614035088\n",
            "Kfold 5 0.9118942731277533\n",
            "rata-rata =  0.9236069248009893\n"
          ],
          "name": "stdout"
        }
      ]
    },
    {
      "cell_type": "code",
      "metadata": {
        "colab": {
          "base_uri": "https://localhost:8080/"
        },
        "id": "nqAFlcrOy5gI",
        "outputId": "e9593d52-3403-4752-b863-c61a99075eab"
      },
      "source": [
        "from sklearn.linear_model import LogisticRegression\n",
        "X = np.arange(len(stem_word))\n",
        "kf = KFold(n_splits=5, random_state=True, shuffle=True)\n",
        "\n",
        "train, test = [], []\n",
        "i = 1\n",
        "akurasi = []\n",
        "for train_index, test_index in kf.split(X):\n",
        "  X_train = stem_word['text_stemming'][train_index]\n",
        "  X_test = stem_word['text_stemming'][test_index]\n",
        "  y_train = stem_word['label'][train_index]\n",
        "  y_test = stem_word['label'][test_index]\n",
        "\n",
        "  log_res = LogisticRegression()\n",
        "  log_res.fit(vectorizer.transform(X_train), y_train)\n",
        "\n",
        "  y_pred = log_res.predict(vectorizer.transform(X_test))\n",
        "  score = accuracy_score(y_test, y_pred)\n",
        "  akurasi.append(score)\n",
        "  print('Kfold', i ,score)\n",
        "  i += 1\n",
        "akurasi = np.array(akurasi)\n",
        "print('rata-rata = ', (akurasi.sum()/len(akurasi)))"
      ],
      "execution_count": null,
      "outputs": [
        {
          "output_type": "stream",
          "text": [
            "Kfold 1 0.9210526315789473\n",
            "Kfold 2 0.956140350877193\n",
            "Kfold 3 0.9254385964912281\n",
            "Kfold 4 0.9342105263157895\n",
            "Kfold 5 0.9295154185022027\n",
            "rata-rata =  0.9332715047530721\n"
          ],
          "name": "stdout"
        }
      ]
    },
    {
      "cell_type": "code",
      "metadata": {
        "colab": {
          "base_uri": "https://localhost:8080/"
        },
        "id": "Lo4Pu6YSxbKW",
        "outputId": "98d18d95-d39e-4414-8b32-bd5309cb4380"
      },
      "source": [
        "testing = [\n",
        "    'sy rudy di malaysia, brencana investasikan dana sy sbgai bekal hidup di indo,sy butuh org yg bisa sy percayakan uang sy rm 5jt,bila brsedia,sms di 085340046549',\n",
        "    'telkomsel(777) kejutan poin hadiah rp.15jt resmi diberikan u/pemilik no. 08128824xxxx pin-b6ba247 u/info hub: pt.telkomsel  021-40225678 021-40333456',\n",
        "    'ayah isiin dl plsa as 20rb di no 082315835514 skrng penting',\n",
        "    'ass,maaf sy yg berminat dgn lokasi yg ditawarkan, dan sy sdh merasa cocok masalah hrganya tolong hubungi a/sms suami sy h.handoko hp;081524095427 trmksh.',\n",
        "    'gua tangtang lu di kedung halang talang bogor setelah lebaran .',\n",
        "    'lg smsn sama cewenya enggak?',\n",
        "    'piye kabare COK!',\n",
        "    'promo ramadhan pnjaman dna cash 100jt - 5m - dgn jaminan bpkb mobil - bs menggunakan krtu-kredit dgn bnga 1.11% minat hub : wijaya 085311466524 - 085814517417',\n",
        "    'paket berdua diskon 45%. ayam+chicken strips+2 nasi+2 minum hanya 35rb nett. tkr sms ini di cfc stasiun kota hingga 30mar. stok terbatas. promo *606#'\n",
        "]\n",
        "\n",
        "for i in testing:\n",
        "  class_pred = multi_nb.predict(vectorizer.transform([i]))\n",
        "  print(i)\n",
        "  if class_pred == 0:\n",
        "    print('normal')\n",
        "  elif class_pred == 1:\n",
        "    print('penipuan')\n",
        "  else:\n",
        "    print('promo')\n",
        "  print()"
      ],
      "execution_count": null,
      "outputs": [
        {
          "output_type": "stream",
          "text": [
            "sy rudy di malaysia, brencana investasikan dana sy sbgai bekal hidup di indo,sy butuh org yg bisa sy percayakan uang sy rm 5jt,bila brsedia,sms di 085340046549\n",
            "penipuan\n",
            "\n",
            "telkomsel(777) kejutan poin hadiah rp.15jt resmi diberikan u/pemilik no. 08128824xxxx pin-b6ba247 u/info hub: pt.telkomsel  021-40225678 021-40333456\n",
            "penipuan\n",
            "\n",
            "ayah isiin dl plsa as 20rb di no 082315835514 skrng penting\n",
            "penipuan\n",
            "\n",
            "ass,maaf sy yg berminat dgn lokasi yg ditawarkan, dan sy sdh merasa cocok masalah hrganya tolong hubungi a/sms suami sy h.handoko hp;081524095427 trmksh.\n",
            "penipuan\n",
            "\n",
            "gua tangtang lu di kedung halang talang bogor setelah lebaran .\n",
            "normal\n",
            "\n",
            "lg smsn sama cewenya enggak?\n",
            "normal\n",
            "\n",
            "piye kabare COK!\n",
            "normal\n",
            "\n",
            "promo ramadhan pnjaman dna cash 100jt - 5m - dgn jaminan bpkb mobil - bs menggunakan krtu-kredit dgn bnga 1.11% minat hub : wijaya 085311466524 - 085814517417\n",
            "penipuan\n",
            "\n",
            "paket berdua diskon 45%. ayam+chicken strips+2 nasi+2 minum hanya 35rb nett. tkr sms ini di cfc stasiun kota hingga 30mar. stok terbatas. promo *606#\n",
            "promo\n",
            "\n"
          ],
          "name": "stdout"
        }
      ]
    },
    {
      "cell_type": "code",
      "metadata": {
        "id": "02Nqa-cWHcAd"
      },
      "source": [
        ""
      ],
      "execution_count": null,
      "outputs": []
    },
    {
      "cell_type": "code",
      "metadata": {
        "id": "qdkexmH6swsY"
      },
      "source": [
        ""
      ],
      "execution_count": null,
      "outputs": []
    }
  ]
}